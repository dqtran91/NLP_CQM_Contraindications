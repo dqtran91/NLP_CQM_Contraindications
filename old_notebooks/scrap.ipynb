{
 "cells": [
  {
   "cell_type": "code",
   "execution_count": null,
   "metadata": {
    "collapsed": true
   },
   "outputs": [],
   "source": [
    "def applyRegEx_2(_df: pd.DataFrame, textCol: str) -> pd.DataFrame:\n",
    "    \"\"\"\n",
    "    return a dataframe with the applied regex to the text column\n",
    "    \"\"\"\n",
    "    # for each regex pattern, extract all matching capture groups as one string\n",
    "    # _df['dict_intr'] = np.nan\n",
    "    # for key, value in regEx_inter.items():\n",
    "    #     _df[value] = _df[textCol].str.extractall(key, flags=re.IGNORECASE).groupby(level=0).agg(','.join)\n",
    "    #     # update the dict_intr column with the new value where df[value] is not null\n",
    "    #     _df.loc[_df[value].notnull(), 'dict_intr'] = _df[value].map(lambda x: {value: x}) if _df.dict_intr.values[0] is not None else _df.dict_intr.values[0]|_df[value].map(lambda x: {value: x})\n",
    "    #     _df.drop(columns=[value], inplace=True)\n",
    "\n",
    "    _df[\"dict_neg\"] = np.nan\n",
    "    for key, value in regEx_neg.items():\n",
    "        _df[value] = _df[textCol].str.extractall(key, flags=re.IGNORECASE).groupby(level=0).agg(','.join)\n",
    "        _df.loc[_df[value].notnull(), 'dict_neg'] = _df[value].map(lambda x: {value: x}) if _df.dict_neg.values[0] is not None else _df.dict_neg.values[0].update(_df[value].map(lambda x: {value: x}))\n",
    "        _df.drop(columns=[value], inplace=True)\n",
    "\n",
    "    return _df\n",
    "\n",
    "# create pandas dataframe from the test data\n",
    "pd.options.display.max_colwidth = 500\n",
    "df_2 = pd.DataFrame(values, columns=['text'])\n",
    "display(applyRegEx_2(df_2, 'text'))"
   ]
  }
 ],
 "metadata": {
  "kernelspec": {
   "display_name": "Python 3",
   "language": "python",
   "name": "python3"
  },
  "language_info": {
   "codemirror_mode": {
    "name": "ipython",
    "version": 2
   },
   "file_extension": ".py",
   "mimetype": "text/x-python",
   "name": "python",
   "nbconvert_exporter": "python",
   "pygments_lexer": "ipython2",
   "version": "2.7.6"
  }
 },
 "nbformat": 4,
 "nbformat_minor": 0
}
